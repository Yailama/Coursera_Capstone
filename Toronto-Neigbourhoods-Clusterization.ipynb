{
 "cells": [
  {
   "cell_type": "markdown",
   "metadata": {},
   "source": [
    "<h1> DATA RPOCESSING: TORONTO NEIGHBOURHOODS </h1>"
   ]
  },
  {
   "cell_type": "markdown",
   "metadata": {},
   "source": [
    "<h3>Part one: obtain and cleand data</h3>\n",
    "\n",
    "In this section data should be imported from Wikipedia and cleaned to satisfy these criteria:\n",
    "<ul><li>\n",
    "    The dataframe will consist of three columns: PostalCode, Borough, and Neighborhood</li>\n",
    "<li>Only process the cells that have an assigned borough. Ignore cells with a borough that is Not assigned.</li>\n",
    "    \n",
    "<li>More than one neighborhood can exist in one postal code area. For example, in the table on the Wikipedia page, you will notice that M5A is listed twice and has two neighborhoods: Harbourfront and Regent Park. These two rows will be combined into one row with the neighborhoods separated with a comma as shown in row 11 in the above table.</li>\n",
    "    \n",
    "<li>If a cell has a borough but a Not assigned neighborhood, then the neighborhood will be the same as the borough. So for the 9th cell in the table on the Wikipedia page, the value of the Borough and the Neighborhood columns will be Queen's Park.</li>\n",
    "</ul>"
   ]
  },
  {
   "cell_type": "code",
   "execution_count": 38,
   "metadata": {},
   "outputs": [],
   "source": [
    "#pip install geocoder"
   ]
  },
  {
   "cell_type": "code",
   "execution_count": 39,
   "metadata": {},
   "outputs": [],
   "source": [
    "#pip install folium"
   ]
  },
  {
   "cell_type": "code",
   "execution_count": 40,
   "metadata": {},
   "outputs": [],
   "source": [
    "import pandas as pd\n",
    "import numpy as np\n",
    "import geocoder"
   ]
  },
  {
   "cell_type": "markdown",
   "metadata": {},
   "source": [
    "Import data and exclude rows where Borough is not assigned"
   ]
  },
  {
   "cell_type": "code",
   "execution_count": 51,
   "metadata": {},
   "outputs": [
    {
     "data": {
      "text/plain": [
       "(210, 4)"
      ]
     },
     "execution_count": 51,
     "metadata": {},
     "output_type": "execute_result"
    }
   ],
   "source": [
    "x = pd.read_html('https://en.wikipedia.org/wiki/List_of_postal_codes_of_Canada:_M')[0]\n",
    "\n",
    "x = x[x.Borough != \"Not assigned\"]\n",
    "x.reset_index(inplace = True)\n",
    "x.head()\n",
    "x.shape"
   ]
  },
  {
   "cell_type": "markdown",
   "metadata": {},
   "source": [
    "For neigbourhoods without a name (not assigned) name of Bourough should be assigned:"
   ]
  },
  {
   "cell_type": "code",
   "execution_count": 52,
   "metadata": {},
   "outputs": [],
   "source": [
    "#If a cell has a borough but a Not assigned neighborhood, then the neighborhood will be the same as the borough.\n",
    "for i in range(0, x.shape[0]):\n",
    "    if x.Neighbourhood[i]==\"Not assigned\":\n",
    "        x.Neighbourhood[i]=x.Borough[i]"
   ]
  },
  {
   "cell_type": "markdown",
   "metadata": {},
   "source": [
    "In order to merge all Neigbourhoods with a comma for the same postal codes, let's firstly sort data by Postal Code and then iterate by rows. If postal code of row is same with previous row value then neigbourhood should be concatenated with previous ones. <br> Also let's introduce new column Keep = 0 and if current postal code is not equal to next one, then keep = 1. Finally, keep only rows where corresponding column equal to 1 and final row. Then drop keep columns as it's not needed column."
   ]
  },
  {
   "cell_type": "code",
   "execution_count": 53,
   "metadata": {
    "scrolled": false
   },
   "outputs": [
    {
     "name": "stderr",
     "output_type": "stream",
     "text": [
      "C:\\Users\\Amalia\\Anaconda3\\lib\\site-packages\\ipykernel_launcher.py:2: UserWarning: Pandas doesn't allow columns to be created via a new attribute name - see https://pandas.pydata.org/pandas-docs/stable/indexing.html#attribute-access\n",
      "  \n",
      "C:\\Users\\Amalia\\Anaconda3\\lib\\site-packages\\ipykernel_launcher.py:14: SettingWithCopyWarning: \n",
      "A value is trying to be set on a copy of a slice from a DataFrame\n",
      "\n",
      "See the caveats in the documentation: http://pandas.pydata.org/pandas-docs/stable/indexing.html#indexing-view-versus-copy\n",
      "  \n",
      "C:\\Users\\Amalia\\Anaconda3\\lib\\site-packages\\ipykernel_launcher.py:18: SettingWithCopyWarning: \n",
      "A value is trying to be set on a copy of a slice from a DataFrame\n",
      "\n",
      "See the caveats in the documentation: http://pandas.pydata.org/pandas-docs/stable/indexing.html#indexing-view-versus-copy\n",
      "C:\\Users\\Amalia\\Anaconda3\\lib\\site-packages\\ipykernel_launcher.py:20: SettingWithCopyWarning: \n",
      "A value is trying to be set on a copy of a slice from a DataFrame\n",
      "\n",
      "See the caveats in the documentation: http://pandas.pydata.org/pandas-docs/stable/indexing.html#indexing-view-versus-copy\n"
     ]
    },
    {
     "data": {
      "text/html": [
       "<div>\n",
       "<style scoped>\n",
       "    .dataframe tbody tr th:only-of-type {\n",
       "        vertical-align: middle;\n",
       "    }\n",
       "\n",
       "    .dataframe tbody tr th {\n",
       "        vertical-align: top;\n",
       "    }\n",
       "\n",
       "    .dataframe thead th {\n",
       "        text-align: right;\n",
       "    }\n",
       "</style>\n",
       "<table border=\"1\" class=\"dataframe\">\n",
       "  <thead>\n",
       "    <tr style=\"text-align: right;\">\n",
       "      <th></th>\n",
       "      <th>Postcode</th>\n",
       "      <th>Borough</th>\n",
       "      <th>Neighbourhood</th>\n",
       "    </tr>\n",
       "  </thead>\n",
       "  <tbody>\n",
       "    <tr>\n",
       "      <th>0</th>\n",
       "      <td>M3A</td>\n",
       "      <td>North York</td>\n",
       "      <td>Parkwoods</td>\n",
       "    </tr>\n",
       "    <tr>\n",
       "      <th>1</th>\n",
       "      <td>M4A</td>\n",
       "      <td>North York</td>\n",
       "      <td>Victoria Village</td>\n",
       "    </tr>\n",
       "    <tr>\n",
       "      <th>2</th>\n",
       "      <td>M5A</td>\n",
       "      <td>Downtown Toronto</td>\n",
       "      <td>Harbourfront</td>\n",
       "    </tr>\n",
       "    <tr>\n",
       "      <th>3</th>\n",
       "      <td>M6A</td>\n",
       "      <td>North York</td>\n",
       "      <td>Lawrence Heights, Lawrence Manor</td>\n",
       "    </tr>\n",
       "    <tr>\n",
       "      <th>4</th>\n",
       "      <td>M7A</td>\n",
       "      <td>Queen's Park</td>\n",
       "      <td>Queen's Park</td>\n",
       "    </tr>\n",
       "  </tbody>\n",
       "</table>\n",
       "</div>"
      ],
      "text/plain": [
       "  Postcode           Borough                     Neighbourhood\n",
       "0      M3A        North York                         Parkwoods\n",
       "1      M4A        North York                  Victoria Village\n",
       "2      M5A  Downtown Toronto                      Harbourfront\n",
       "3      M6A        North York  Lawrence Heights, Lawrence Manor\n",
       "4      M7A      Queen's Park                      Queen's Park"
      ]
     },
     "execution_count": 53,
     "metadata": {},
     "output_type": "execute_result"
    }
   ],
   "source": [
    "#sort df by postal code\n",
    "x.initial_shape = range(0, x.shape[0])\n",
    "x.sort_values(by = \"Postcode\")\n",
    "\n",
    "x['Keep'] = 0\n",
    "\n",
    "\n",
    "\n",
    "x.shape\n",
    "#loop trough dataframe to append Neighborhoods for the same Postal Codes\n",
    "#Assign 1 in column keep for rows which hold the last row for each Postal Code, as it contains all the neighbourhoods\n",
    "for i in range(1, x.shape[0]):\n",
    "    if x.Postcode[i]==x.Postcode[i-1]:\n",
    "        x.Neighbourhood[i] = x.Neighbourhood[i-1] + \", \" + x.Neighbourhood[i] \n",
    "        \n",
    "for i in range(0, x.shape[0]-1):\n",
    "    if x.Postcode[i]!=x.Postcode[i+1]:\n",
    "        x.Keep[i]=1\n",
    "#As loop always look at i+1 the last row was uncovered. Last row always should be kept as it always last row of a Postal COde.        \n",
    "x.Keep[x.shape[0]-1]=1   \n",
    "\n",
    "#keep only rows with keep == 1, so there would be rows with unique postal codes and all their neighbourhoods.\n",
    "\n",
    "x = x[x.Keep == 1]\n",
    "x.reset_index(inplace = True)\n",
    "x.drop(['Keep', 'index', 'level_0'], axis = 1, inplace = True)    \n",
    "    \n",
    "#Clean your Notebook and add Markdown cells to explain your work and any assumptions you are making.\n",
    "#In the last cell of your notebook, use the .shape method to print the number of rows of your dataframe.\n",
    "x.head()\n"
   ]
  },
  {
   "cell_type": "code",
   "execution_count": 54,
   "metadata": {},
   "outputs": [
    {
     "data": {
      "text/plain": [
       "(103, 3)"
      ]
     },
     "execution_count": 54,
     "metadata": {},
     "output_type": "execute_result"
    }
   ],
   "source": [
    "x.shape"
   ]
  },
  {
   "cell_type": "markdown",
   "metadata": {},
   "source": [
    "So the final dataframe for part one consist of 103 rows"
   ]
  },
  {
   "cell_type": "markdown",
   "metadata": {},
   "source": [
    "<h3>PART TWO: OBTAIN FINAL DATASET WITH COORDINATED</h3>"
   ]
  },
  {
   "cell_type": "markdown",
   "metadata": {},
   "source": [
    "<p>I honestly tried to obtain coordinates using geocoder, but request is denied. After googling (what an irony) the problem, it could be because some additional parameters are not defiend. Nevertheless, this package can sometimes returns NA, so let's use prepared file.</p>"
   ]
  },
  {
   "cell_type": "code",
   "execution_count": 55,
   "metadata": {},
   "outputs": [
    {
     "data": {
      "text/plain": [
       "<[REQUEST_DENIED] Google - Geocode [empty]>"
      ]
     },
     "execution_count": 55,
     "metadata": {},
     "output_type": "execute_result"
    }
   ],
   "source": [
    "g = geocoder.google('Mountain View, CA')\n",
    "g"
   ]
  },
  {
   "cell_type": "markdown",
   "metadata": {},
   "source": [
    "So here is the coordinated file:"
   ]
  },
  {
   "cell_type": "code",
   "execution_count": 56,
   "metadata": {},
   "outputs": [
    {
     "data": {
      "text/html": [
       "<div>\n",
       "<style scoped>\n",
       "    .dataframe tbody tr th:only-of-type {\n",
       "        vertical-align: middle;\n",
       "    }\n",
       "\n",
       "    .dataframe tbody tr th {\n",
       "        vertical-align: top;\n",
       "    }\n",
       "\n",
       "    .dataframe thead th {\n",
       "        text-align: right;\n",
       "    }\n",
       "</style>\n",
       "<table border=\"1\" class=\"dataframe\">\n",
       "  <thead>\n",
       "    <tr style=\"text-align: right;\">\n",
       "      <th></th>\n",
       "      <th>Postal Code</th>\n",
       "      <th>Latitude</th>\n",
       "      <th>Longitude</th>\n",
       "    </tr>\n",
       "  </thead>\n",
       "  <tbody>\n",
       "    <tr>\n",
       "      <th>0</th>\n",
       "      <td>M1B</td>\n",
       "      <td>43.806686</td>\n",
       "      <td>-79.194353</td>\n",
       "    </tr>\n",
       "    <tr>\n",
       "      <th>1</th>\n",
       "      <td>M1C</td>\n",
       "      <td>43.784535</td>\n",
       "      <td>-79.160497</td>\n",
       "    </tr>\n",
       "    <tr>\n",
       "      <th>2</th>\n",
       "      <td>M1E</td>\n",
       "      <td>43.763573</td>\n",
       "      <td>-79.188711</td>\n",
       "    </tr>\n",
       "    <tr>\n",
       "      <th>3</th>\n",
       "      <td>M1G</td>\n",
       "      <td>43.770992</td>\n",
       "      <td>-79.216917</td>\n",
       "    </tr>\n",
       "    <tr>\n",
       "      <th>4</th>\n",
       "      <td>M1H</td>\n",
       "      <td>43.773136</td>\n",
       "      <td>-79.239476</td>\n",
       "    </tr>\n",
       "  </tbody>\n",
       "</table>\n",
       "</div>"
      ],
      "text/plain": [
       "  Postal Code   Latitude  Longitude\n",
       "0         M1B  43.806686 -79.194353\n",
       "1         M1C  43.784535 -79.160497\n",
       "2         M1E  43.763573 -79.188711\n",
       "3         M1G  43.770992 -79.216917\n",
       "4         M1H  43.773136 -79.239476"
      ]
     },
     "execution_count": 56,
     "metadata": {},
     "output_type": "execute_result"
    }
   ],
   "source": [
    "coords_file = pd.read_csv(\"https://cocl.us/Geospatial_data\")\n",
    "coords_file.head()"
   ]
  },
  {
   "cell_type": "markdown",
   "metadata": {},
   "source": [
    "So here each row stand for Postal Code and coordinates. We can do left join by postal code:"
   ]
  },
  {
   "cell_type": "code",
   "execution_count": 57,
   "metadata": {},
   "outputs": [
    {
     "data": {
      "text/html": [
       "<div>\n",
       "<style scoped>\n",
       "    .dataframe tbody tr th:only-of-type {\n",
       "        vertical-align: middle;\n",
       "    }\n",
       "\n",
       "    .dataframe tbody tr th {\n",
       "        vertical-align: top;\n",
       "    }\n",
       "\n",
       "    .dataframe thead th {\n",
       "        text-align: right;\n",
       "    }\n",
       "</style>\n",
       "<table border=\"1\" class=\"dataframe\">\n",
       "  <thead>\n",
       "    <tr style=\"text-align: right;\">\n",
       "      <th></th>\n",
       "      <th>Postcode</th>\n",
       "      <th>Borough</th>\n",
       "      <th>Neighbourhood</th>\n",
       "      <th>Postal Code</th>\n",
       "      <th>Latitude</th>\n",
       "      <th>Longitude</th>\n",
       "    </tr>\n",
       "  </thead>\n",
       "  <tbody>\n",
       "    <tr>\n",
       "      <th>0</th>\n",
       "      <td>M3A</td>\n",
       "      <td>North York</td>\n",
       "      <td>Parkwoods</td>\n",
       "      <td>M3A</td>\n",
       "      <td>43.753259</td>\n",
       "      <td>-79.329656</td>\n",
       "    </tr>\n",
       "    <tr>\n",
       "      <th>1</th>\n",
       "      <td>M4A</td>\n",
       "      <td>North York</td>\n",
       "      <td>Victoria Village</td>\n",
       "      <td>M4A</td>\n",
       "      <td>43.725882</td>\n",
       "      <td>-79.315572</td>\n",
       "    </tr>\n",
       "    <tr>\n",
       "      <th>2</th>\n",
       "      <td>M5A</td>\n",
       "      <td>Downtown Toronto</td>\n",
       "      <td>Harbourfront</td>\n",
       "      <td>M5A</td>\n",
       "      <td>43.654260</td>\n",
       "      <td>-79.360636</td>\n",
       "    </tr>\n",
       "    <tr>\n",
       "      <th>3</th>\n",
       "      <td>M6A</td>\n",
       "      <td>North York</td>\n",
       "      <td>Lawrence Heights, Lawrence Manor</td>\n",
       "      <td>M6A</td>\n",
       "      <td>43.718518</td>\n",
       "      <td>-79.464763</td>\n",
       "    </tr>\n",
       "    <tr>\n",
       "      <th>4</th>\n",
       "      <td>M7A</td>\n",
       "      <td>Queen's Park</td>\n",
       "      <td>Queen's Park</td>\n",
       "      <td>M7A</td>\n",
       "      <td>43.662301</td>\n",
       "      <td>-79.389494</td>\n",
       "    </tr>\n",
       "  </tbody>\n",
       "</table>\n",
       "</div>"
      ],
      "text/plain": [
       "  Postcode           Borough                     Neighbourhood Postal Code  \\\n",
       "0      M3A        North York                         Parkwoods         M3A   \n",
       "1      M4A        North York                  Victoria Village         M4A   \n",
       "2      M5A  Downtown Toronto                      Harbourfront         M5A   \n",
       "3      M6A        North York  Lawrence Heights, Lawrence Manor         M6A   \n",
       "4      M7A      Queen's Park                      Queen's Park         M7A   \n",
       "\n",
       "    Latitude  Longitude  \n",
       "0  43.753259 -79.329656  \n",
       "1  43.725882 -79.315572  \n",
       "2  43.654260 -79.360636  \n",
       "3  43.718518 -79.464763  \n",
       "4  43.662301 -79.389494  "
      ]
     },
     "execution_count": 57,
     "metadata": {},
     "output_type": "execute_result"
    }
   ],
   "source": [
    "x = pd.merge(x, coords_file, left_on = 'Postcode', right_on = 'Postal Code', how = 'left')\n",
    "x.head()"
   ]
  },
  {
   "cell_type": "markdown",
   "metadata": {},
   "source": [
    "<h3>PART THREE: CLUSTERIZATOIN </h3>"
   ]
  },
  {
   "cell_type": "markdown",
   "metadata": {},
   "source": [
    "Let's use functions prepared in the course Lab to obtain all the venues for given neigbourhoods and obtain top-10 categories. Then investigate given results to build clusters."
   ]
  },
  {
   "cell_type": "code",
   "execution_count": 58,
   "metadata": {},
   "outputs": [],
   "source": [
    "import requests # library to handle requests"
   ]
  },
  {
   "cell_type": "code",
   "execution_count": 59,
   "metadata": {
    "scrolled": true
   },
   "outputs": [],
   "source": [
    "\n",
    "def getNearbyVenues(names, latitudes, longitudes, radius=500):\n",
    "    \n",
    "    venues_list=[]\n",
    "    for name, lat, lng in zip(names, latitudes, longitudes):\n",
    "            \n",
    "        # create the API request URL\n",
    "        url = 'https://api.foursquare.com/v2/venues/explore?&client_id={}&client_secret={}&v={}&ll={},{}&radius={}&limit={}'.format(\n",
    "            CLIENT_ID, \n",
    "            CLIENT_SECRET, \n",
    "            VERSION, \n",
    "            lat, \n",
    "            lng, \n",
    "            radius, \n",
    "            LIMIT)\n",
    "            \n",
    "        # make the GET request\n",
    "        results = requests.get(url).json()[\"response\"]['groups'][0]['items']\n",
    "        \n",
    "        # return only relevant information for each nearby venue\n",
    "        venues_list.append([(\n",
    "            name, \n",
    "            lat, \n",
    "            lng, \n",
    "            v['venue']['name'], \n",
    "            v['venue']['location']['lat'], \n",
    "            v['venue']['location']['lng'],  \n",
    "            v['venue']['categories'][0]['name']) for v in results])\n",
    "\n",
    "    nearby_venues = pd.DataFrame([item for venue_list in venues_list for item in venue_list])\n",
    "    nearby_venues.columns = ['Neighbourhood', \n",
    "                  'Neighbourhood Latitude', \n",
    "                  'Neighbourhood Longitude', \n",
    "                  'Venue', \n",
    "                  'Venue Latitude', \n",
    "                  'Venue Longitude', \n",
    "                  'Venue Category']\n",
    "    \n",
    "    return(nearby_venues)"
   ]
  },
  {
   "cell_type": "code",
   "execution_count": 60,
   "metadata": {},
   "outputs": [],
   "source": [
    "def return_most_common_venues(row, num_top_venues):\n",
    "    row_categories = row.iloc[1:]\n",
    "    row_categories_sorted = row_categories.sort_values(ascending=False)\n",
    "    \n",
    "    return row_categories_sorted.index.values[0:num_top_venues]"
   ]
  },
  {
   "cell_type": "markdown",
   "metadata": {},
   "source": [
    "If you would like to run the code yourself, insert your Foursquare API credentials:"
   ]
  },
  {
   "cell_type": "code",
   "execution_count": 62,
   "metadata": {},
   "outputs": [],
   "source": [
    "CLIENT_ID = '' # your Foursquare ID\n",
    "CLIENT_SECRET = '' # your Foursquare Secret\n",
    "VERSION = '20180605' # Foursquare API version\n",
    "LIMIT = 100"
   ]
  },
  {
   "cell_type": "code",
   "execution_count": 63,
   "metadata": {},
   "outputs": [],
   "source": [
    "# type your answer here\n",
    "\n",
    "toronto_venues = getNearbyVenues(names=x['Neighbourhood'],\n",
    "                                   latitudes=x['Latitude'],\n",
    "                                   longitudes=x['Longitude']\n",
    "                                  )"
   ]
  },
  {
   "cell_type": "markdown",
   "metadata": {},
   "source": [
    "So we got now final dataset:"
   ]
  },
  {
   "cell_type": "code",
   "execution_count": 64,
   "metadata": {},
   "outputs": [
    {
     "data": {
      "text/html": [
       "<div>\n",
       "<style scoped>\n",
       "    .dataframe tbody tr th:only-of-type {\n",
       "        vertical-align: middle;\n",
       "    }\n",
       "\n",
       "    .dataframe tbody tr th {\n",
       "        vertical-align: top;\n",
       "    }\n",
       "\n",
       "    .dataframe thead th {\n",
       "        text-align: right;\n",
       "    }\n",
       "</style>\n",
       "<table border=\"1\" class=\"dataframe\">\n",
       "  <thead>\n",
       "    <tr style=\"text-align: right;\">\n",
       "      <th></th>\n",
       "      <th>Neighbourhood</th>\n",
       "      <th>Neighbourhood Latitude</th>\n",
       "      <th>Neighbourhood Longitude</th>\n",
       "      <th>Venue</th>\n",
       "      <th>Venue Latitude</th>\n",
       "      <th>Venue Longitude</th>\n",
       "      <th>Venue Category</th>\n",
       "    </tr>\n",
       "  </thead>\n",
       "  <tbody>\n",
       "    <tr>\n",
       "      <th>0</th>\n",
       "      <td>Parkwoods</td>\n",
       "      <td>43.753259</td>\n",
       "      <td>-79.329656</td>\n",
       "      <td>Brookbanks Park</td>\n",
       "      <td>43.751976</td>\n",
       "      <td>-79.332140</td>\n",
       "      <td>Park</td>\n",
       "    </tr>\n",
       "    <tr>\n",
       "      <th>1</th>\n",
       "      <td>Parkwoods</td>\n",
       "      <td>43.753259</td>\n",
       "      <td>-79.329656</td>\n",
       "      <td>Variety Store</td>\n",
       "      <td>43.751974</td>\n",
       "      <td>-79.333114</td>\n",
       "      <td>Food &amp; Drink Shop</td>\n",
       "    </tr>\n",
       "    <tr>\n",
       "      <th>2</th>\n",
       "      <td>Victoria Village</td>\n",
       "      <td>43.725882</td>\n",
       "      <td>-79.315572</td>\n",
       "      <td>Victoria Village Arena</td>\n",
       "      <td>43.723481</td>\n",
       "      <td>-79.315635</td>\n",
       "      <td>Hockey Arena</td>\n",
       "    </tr>\n",
       "    <tr>\n",
       "      <th>3</th>\n",
       "      <td>Victoria Village</td>\n",
       "      <td>43.725882</td>\n",
       "      <td>-79.315572</td>\n",
       "      <td>Tim Hortons</td>\n",
       "      <td>43.725517</td>\n",
       "      <td>-79.313103</td>\n",
       "      <td>Coffee Shop</td>\n",
       "    </tr>\n",
       "    <tr>\n",
       "      <th>4</th>\n",
       "      <td>Victoria Village</td>\n",
       "      <td>43.725882</td>\n",
       "      <td>-79.315572</td>\n",
       "      <td>Portugril</td>\n",
       "      <td>43.725819</td>\n",
       "      <td>-79.312785</td>\n",
       "      <td>Portuguese Restaurant</td>\n",
       "    </tr>\n",
       "  </tbody>\n",
       "</table>\n",
       "</div>"
      ],
      "text/plain": [
       "      Neighbourhood  Neighbourhood Latitude  Neighbourhood Longitude  \\\n",
       "0         Parkwoods               43.753259               -79.329656   \n",
       "1         Parkwoods               43.753259               -79.329656   \n",
       "2  Victoria Village               43.725882               -79.315572   \n",
       "3  Victoria Village               43.725882               -79.315572   \n",
       "4  Victoria Village               43.725882               -79.315572   \n",
       "\n",
       "                    Venue  Venue Latitude  Venue Longitude  \\\n",
       "0         Brookbanks Park       43.751976       -79.332140   \n",
       "1           Variety Store       43.751974       -79.333114   \n",
       "2  Victoria Village Arena       43.723481       -79.315635   \n",
       "3             Tim Hortons       43.725517       -79.313103   \n",
       "4               Portugril       43.725819       -79.312785   \n",
       "\n",
       "          Venue Category  \n",
       "0                   Park  \n",
       "1      Food & Drink Shop  \n",
       "2           Hockey Arena  \n",
       "3            Coffee Shop  \n",
       "4  Portuguese Restaurant  "
      ]
     },
     "execution_count": 64,
     "metadata": {},
     "output_type": "execute_result"
    }
   ],
   "source": [
    "toronto_venues.head()"
   ]
  },
  {
   "cell_type": "code",
   "execution_count": 65,
   "metadata": {},
   "outputs": [
    {
     "data": {
      "text/plain": [
       "(2241, 7)"
      ]
     },
     "execution_count": 65,
     "metadata": {},
     "output_type": "execute_result"
    }
   ],
   "source": [
    "toronto_venues.shape"
   ]
  },
  {
   "cell_type": "markdown",
   "metadata": {},
   "source": [
    "We can see that there are more than 2000 venues. To what category do they belong?"
   ]
  },
  {
   "cell_type": "code",
   "execution_count": 66,
   "metadata": {},
   "outputs": [
    {
     "data": {
      "text/plain": [
       "Coffee Shop                      182\n",
       "Café                              99\n",
       "Restaurant                        66\n",
       "Park                              54\n",
       "Pizza Place                       52\n",
       "Bakery                            52\n",
       "Italian Restaurant                49\n",
       "Sandwich Place                    43\n",
       "Bar                               42\n",
       "Hotel                             42\n",
       "Clothing Store                    37\n",
       "Japanese Restaurant               35\n",
       "Gym                               33\n",
       "Fast Food Restaurant              31\n",
       "American Restaurant               30\n",
       "Sushi Restaurant                  28\n",
       "Burger Joint                      26\n",
       "Pub                               25\n",
       "Breakfast Spot                    24\n",
       "Seafood Restaurant                24\n",
       "Gastropub                         23\n",
       "Thai Restaurant                   23\n",
       "Grocery Store                     22\n",
       "Steakhouse                        22\n",
       "Diner                             21\n",
       "Chinese Restaurant                21\n",
       "Pharmacy                          20\n",
       "Beer Bar                          20\n",
       "Fried Chicken Joint               18\n",
       "Vegetarian / Vegan Restaurant     18\n",
       "                                ... \n",
       "Cupcake Shop                       1\n",
       "Afghan Restaurant                  1\n",
       "Bed & Breakfast                    1\n",
       "Swim School                        1\n",
       "Camera Store                       1\n",
       "Warehouse Store                    1\n",
       "Gaming Cafe                        1\n",
       "Hakka Restaurant                   1\n",
       "Taco Place                         1\n",
       "Social Club                        1\n",
       "Home Service                       1\n",
       "Harbor / Marina                    1\n",
       "IT Services                        1\n",
       "Hospital                           1\n",
       "Cafeteria                          1\n",
       "Curling Ice                        1\n",
       "Hookah Bar                         1\n",
       "Costume Shop                       1\n",
       "Fruit & Vegetable Store            1\n",
       "Optical Shop                       1\n",
       "Festival                           1\n",
       "Motel                              1\n",
       "Doner Restaurant                   1\n",
       "Airport Food Court                 1\n",
       "Hardware Store                     1\n",
       "Drugstore                          1\n",
       "Piano Bar                          1\n",
       "Garden Center                      1\n",
       "German Restaurant                  1\n",
       "Mac & Cheese Joint                 1\n",
       "Name: Venue Category, Length: 272, dtype: int64"
      ]
     },
     "execution_count": 66,
     "metadata": {},
     "output_type": "execute_result"
    }
   ],
   "source": [
    "toronto_venues['Venue Category'].value_counts()"
   ]
  },
  {
   "cell_type": "markdown",
   "metadata": {},
   "source": [
    "Most common places are caffes and coffe shops, as well as another restaurants, bars, i.e. places to have meal and rest. Let's take a look of all unique places types:"
   ]
  },
  {
   "cell_type": "code",
   "execution_count": 67,
   "metadata": {},
   "outputs": [
    {
     "data": {
      "text/plain": [
       "array(['Park', 'Food & Drink Shop', 'Hockey Arena', 'Coffee Shop',\n",
       "       'Portuguese Restaurant', 'French Restaurant', 'Bakery',\n",
       "       'Gym / Fitness Center', 'Spa', 'Breakfast Spot', 'Restaurant',\n",
       "       'Historic Site', 'Pub', 'Chocolate Shop', 'Farmers Market',\n",
       "       'Dessert Shop', 'Performing Arts Venue', 'Mexican Restaurant',\n",
       "       'Café', 'Greek Restaurant', 'Theater', 'Italian Restaurant',\n",
       "       'Event Space', 'Art Gallery', 'Ice Cream Shop', 'Shoe Store',\n",
       "       'Cosmetics Shop', 'Asian Restaurant', 'Brewery',\n",
       "       'Electronics Store', 'Bank', 'Beer Store', 'Hotel',\n",
       "       'Health Food Store', 'Antique Shop', 'Boutique',\n",
       "       'Furniture / Home Store', 'Vietnamese Restaurant',\n",
       "       'Clothing Store', 'Accessories Store', 'Fraternity House',\n",
       "       'Carpet Store', 'Miscellaneous Shop', 'Gym', 'Sushi Restaurant',\n",
       "       'Creperie', 'Burrito Place', 'Yoga Studio', 'Persian Restaurant',\n",
       "       'Hobby Shop', 'Arts & Crafts Store', 'Diner', 'Beer Bar',\n",
       "       'Wings Joint', 'Burger Joint', 'Nightclub', 'Seafood Restaurant',\n",
       "       'Fried Chicken Joint', 'Smoothie Shop', 'Sandwich Place',\n",
       "       'College Auditorium', 'Bar', 'Music Venue', 'Fast Food Restaurant',\n",
       "       'Print Shop', 'Caribbean Restaurant', 'Japanese Restaurant',\n",
       "       'Gastropub', 'Pharmacy', 'Pizza Place', 'Intersection', 'Bus Line',\n",
       "       'Athletics & Sports', 'Comic Shop', 'Plaza', 'Tea Room',\n",
       "       'Ramen Restaurant', 'Thai Restaurant', 'Taco Place',\n",
       "       'Sporting Goods Shop', 'Movie Theater', 'Steakhouse',\n",
       "       'American Restaurant', 'Vegetarian / Vegan Restaurant',\n",
       "       'Bookstore', 'Tanning Salon', 'Shopping Mall',\n",
       "       'Modern European Restaurant', 'College Rec Center',\n",
       "       'Middle Eastern Restaurant', 'Ethiopian Restaurant', 'Lounge',\n",
       "       'Lake', 'Juice Bar', 'Bubble Tea Shop', 'Department Store',\n",
       "       'Toy / Game Store', 'Chinese Restaurant', 'Video Game Store',\n",
       "       'Lingerie Store', 'Wine Bar', 'Other Great Outdoors', 'Hookah Bar',\n",
       "       'Office', 'Smoke Shop', 'Speakeasy', 'Metro Station',\n",
       "       'Filipino Restaurant', 'Construction & Landscaping',\n",
       "       'Moving Target', 'Discount Store', 'Concert Hall', 'Bike Shop',\n",
       "       'Dim Sum Restaurant', 'Supermarket', 'Skating Rink', 'Curling Ice',\n",
       "       'Dance Studio', 'Video Store', 'Food Truck', 'BBQ Joint', 'Church',\n",
       "       'Poke Place', 'Hostel', 'New American Restaurant',\n",
       "       'Latin American Restaurant', 'Camera Store', 'Cocktail Bar',\n",
       "       'Fountain', 'Tailor Shop', 'Grocery Store', 'Fish Market',\n",
       "       'German Restaurant', 'Cheese Shop', 'Bagel Shop',\n",
       "       'Comfort Food Restaurant', 'Pet Store', 'Salon / Barbershop',\n",
       "       'Field', 'Trail', 'Liquor Store', 'Convenience Store',\n",
       "       'Rental Car Location', 'Medical Center', 'Neighborhood', 'Museum',\n",
       "       'Basketball Stadium', 'Bistro', 'Jazz Club', 'Beach',\n",
       "       'Gourmet Shop', 'Butcher', 'Irish Pub', \"Women's Store\", 'Market',\n",
       "       'Korean Restaurant', 'Sports Bar', 'Fish & Chips Shop',\n",
       "       'Record Shop', 'Falafel Restaurant', 'Salad Place',\n",
       "       'Indian Restaurant', 'Donut Shop', 'Mediterranean Restaurant',\n",
       "       'Candy Store', 'Baby Store', 'Hakka Restaurant', 'Gas Station',\n",
       "       'Golf Course', 'Pool', 'Dog Run', 'Deli / Bodega', 'Bridal Shop',\n",
       "       'Frozen Yogurt Shop', 'Warehouse Store', 'Opera House',\n",
       "       'Food Court', 'General Travel', 'Monument / Landmark',\n",
       "       'Noodle House', 'Colombian Restaurant', 'Brazilian Restaurant',\n",
       "       'Gluten-free Restaurant', 'Building', 'Playground',\n",
       "       'Supplement Shop', 'Mobile Phone Shop', 'Bus Station',\n",
       "       'Baseball Field', 'Massage Studio', 'Roof Deck', 'Aquarium',\n",
       "       'Train Station', 'IT Services', 'Scenic Lookout', 'History Museum',\n",
       "       'Baseball Stadium', 'Hotel Bar', 'Festival', 'Cuban Restaurant',\n",
       "       'Mac & Cheese Joint', 'Argentinian Restaurant', \"Men's Store\",\n",
       "       'Cupcake Shop', 'Gift Shop', 'Southern / Soul Food Restaurant',\n",
       "       'Airport', 'Fruit & Vegetable Store', 'Climbing Gym', 'Stadium',\n",
       "       'Soccer Field', 'Cafeteria', 'Board Shop', 'Home Service',\n",
       "       'Empanada Restaurant', 'Motel', 'Piano Bar', 'Business Service',\n",
       "       'Gay Bar', 'Stationery Store', 'Coworking Space',\n",
       "       'General Entertainment', 'College Stadium',\n",
       "       'Indonesian Restaurant', 'Swim School', 'Health & Beauty Service',\n",
       "       'Garden', 'Thrift / Vintage Store', 'Jewelry Store', 'Flea Market',\n",
       "       'Cajun / Creole Restaurant', 'Auto Garage',\n",
       "       'Eastern European Restaurant', 'Costume Shop', 'College Gym',\n",
       "       'College Arts Building', 'Poutine Place', 'Food',\n",
       "       'Indie Movie Theater', 'Organic Grocery', 'Belgian Restaurant',\n",
       "       'Dumpling Restaurant', 'Gaming Cafe', 'Hotpot Restaurant',\n",
       "       'Doner Restaurant', 'Hospital', 'Bed & Breakfast',\n",
       "       'Light Rail Station', 'Airport Lounge', 'Harbor / Marina',\n",
       "       'Airport Food Court', 'Airport Terminal', 'Airport Gate',\n",
       "       'Airport Service', 'Sculpture Garden', 'Boat or Ferry',\n",
       "       'Flower Shop', 'Molecular Gastronomy Restaurant', 'Optical Shop',\n",
       "       'Drugstore', 'Taiwanese Restaurant', 'River', 'Theme Restaurant',\n",
       "       'Sake Bar', 'Afghan Restaurant', 'Strip Club', 'Skate Park',\n",
       "       'Garden Center', 'Auto Workshop', 'Recording Studio',\n",
       "       'Hardware Store', 'Social Club'], dtype=object)"
      ]
     },
     "execution_count": 67,
     "metadata": {},
     "output_type": "execute_result"
    }
   ],
   "source": [
    "toronto_venues['Venue Category'].unique()"
   ]
  },
  {
   "cell_type": "markdown",
   "metadata": {},
   "source": [
    "We can see that there are a lot of types of places: theaters, gyms, airport infrastructure and various stores. Let's merge together Caffe and Coffe Shops in one group, and merge all restaurants to another to make clusterization more specific to types of objects (i.e. restaurant, gym, .etc) instead of slight difference among some of them (i.e. different types of restaurants)"
   ]
  },
  {
   "cell_type": "code",
   "execution_count": 68,
   "metadata": {},
   "outputs": [
    {
     "data": {
      "text/plain": [
       "Restaurant                 513\n",
       "Coffee Shop                281\n",
       "Park                        54\n",
       "Pizza Place                 52\n",
       "Bakery                      52\n",
       "Sandwich Place              43\n",
       "Hotel                       42\n",
       "Bar                         42\n",
       "Clothing Store              37\n",
       "Gym                         33\n",
       "Burger Joint                26\n",
       "Pub                         25\n",
       "Breakfast Spot              24\n",
       "Gastropub                   23\n",
       "Steakhouse                  22\n",
       "Grocery Store               22\n",
       "Diner                       21\n",
       "Beer Bar                    20\n",
       "Pharmacy                    20\n",
       "Fried Chicken Joint         18\n",
       "Bookstore                   18\n",
       "Bank                        18\n",
       "Furniture / Home Store      18\n",
       "Gym / Fitness Center        17\n",
       "Cosmetics Shop              17\n",
       "Ice Cream Shop              17\n",
       "Deli / Bodega               16\n",
       "Dessert Shop                16\n",
       "Tea Room                    16\n",
       "Liquor Store                15\n",
       "                          ... \n",
       "Organic Grocery              1\n",
       "Recording Studio             1\n",
       "Climbing Gym                 1\n",
       "College Stadium              1\n",
       "Swim School                  1\n",
       "Medical Center               1\n",
       "Camera Store                 1\n",
       "Taco Place                   1\n",
       "Social Club                  1\n",
       "Home Service                 1\n",
       "Harbor / Marina              1\n",
       "Hospital                     1\n",
       "Bed & Breakfast              1\n",
       "Curling Ice                  1\n",
       "Fraternity House             1\n",
       "Fruit & Vegetable Store      1\n",
       "Optical Shop                 1\n",
       "Festival                     1\n",
       "Food                         1\n",
       "Garden Center                1\n",
       "Cupcake Shop                 1\n",
       "Airport Gate                 1\n",
       "Hardware Store               1\n",
       "Roof Deck                    1\n",
       "Mac & Cheese Joint           1\n",
       "Gaming Coffee Shope          1\n",
       "Auto Workshop                1\n",
       "Drugstore                    1\n",
       "Soccer Field                 1\n",
       "Field                        1\n",
       "Name: Venue Category, Length: 221, dtype: int64"
      ]
     },
     "execution_count": 68,
     "metadata": {},
     "output_type": "execute_result"
    }
   ],
   "source": [
    "toronto_venues.replace({'Venue Category': r'Café*'}, {'Venue Category': 'Coffee Shop'}, regex=True, inplace = True)\n",
    "toronto_venues.replace({'Venue Category': r'.+Restaurant'}, {'Venue Category': 'Restaurant'}, regex=True, inplace = True)\n",
    "toronto_venues['Venue Category'].value_counts()"
   ]
  },
  {
   "cell_type": "markdown",
   "metadata": {},
   "source": [
    "After some reshaping of vanues let's create dataframe with top-10 venues in columns for each area in rows and their quantity as values:"
   ]
  },
  {
   "cell_type": "code",
   "execution_count": 74,
   "metadata": {},
   "outputs": [
    {
     "data": {
      "text/html": [
       "<div>\n",
       "<style scoped>\n",
       "    .dataframe tbody tr th:only-of-type {\n",
       "        vertical-align: middle;\n",
       "    }\n",
       "\n",
       "    .dataframe tbody tr th {\n",
       "        vertical-align: top;\n",
       "    }\n",
       "\n",
       "    .dataframe thead th {\n",
       "        text-align: right;\n",
       "    }\n",
       "</style>\n",
       "<table border=\"1\" class=\"dataframe\">\n",
       "  <thead>\n",
       "    <tr style=\"text-align: right;\">\n",
       "      <th></th>\n",
       "      <th>Neighbourhood</th>\n",
       "      <th>1st Most Common Venue</th>\n",
       "      <th>2nd Most Common Venue</th>\n",
       "      <th>3rd Most Common Venue</th>\n",
       "      <th>4th Most Common Venue</th>\n",
       "      <th>5th Most Common Venue</th>\n",
       "      <th>6th Most Common Venue</th>\n",
       "      <th>7th Most Common Venue</th>\n",
       "      <th>8th Most Common Venue</th>\n",
       "      <th>9th Most Common Venue</th>\n",
       "      <th>10th Most Common Venue</th>\n",
       "    </tr>\n",
       "  </thead>\n",
       "  <tbody>\n",
       "    <tr>\n",
       "      <th>0</th>\n",
       "      <td>Adelaide, King, Richmond</td>\n",
       "      <td>Restaurant</td>\n",
       "      <td>Coffee Shop</td>\n",
       "      <td>Steakhouse</td>\n",
       "      <td>Burger Joint</td>\n",
       "      <td>Bakery</td>\n",
       "      <td>Salad Place</td>\n",
       "      <td>Bar</td>\n",
       "      <td>Pizza Place</td>\n",
       "      <td>Breakfast Spot</td>\n",
       "      <td>Cosmetics Shop</td>\n",
       "    </tr>\n",
       "    <tr>\n",
       "      <th>1</th>\n",
       "      <td>Agincourt</td>\n",
       "      <td>Lounge</td>\n",
       "      <td>Restaurant</td>\n",
       "      <td>Skating Rink</td>\n",
       "      <td>Clothing Store</td>\n",
       "      <td>Breakfast Spot</td>\n",
       "      <td>Drugstore</td>\n",
       "      <td>Donut Shop</td>\n",
       "      <td>Dog Run</td>\n",
       "      <td>Discount Store</td>\n",
       "      <td>Diner</td>\n",
       "    </tr>\n",
       "    <tr>\n",
       "      <th>2</th>\n",
       "      <td>Agincourt North, L'Amoreaux East, Milliken, St...</td>\n",
       "      <td>Park</td>\n",
       "      <td>Playground</td>\n",
       "      <td>Arts &amp; Crafts Store</td>\n",
       "      <td>Yoga Studio</td>\n",
       "      <td>Cupcake Shop</td>\n",
       "      <td>Drugstore</td>\n",
       "      <td>Donut Shop</td>\n",
       "      <td>Dog Run</td>\n",
       "      <td>Discount Store</td>\n",
       "      <td>Diner</td>\n",
       "    </tr>\n",
       "    <tr>\n",
       "      <th>3</th>\n",
       "      <td>Albion Gardens, Beaumond Heights, Humbergate, ...</td>\n",
       "      <td>Pharmacy</td>\n",
       "      <td>Video Store</td>\n",
       "      <td>Fried Chicken Joint</td>\n",
       "      <td>Sandwich Place</td>\n",
       "      <td>Pizza Place</td>\n",
       "      <td>Restaurant</td>\n",
       "      <td>Beer Store</td>\n",
       "      <td>Grocery Store</td>\n",
       "      <td>Diner</td>\n",
       "      <td>Creperie</td>\n",
       "    </tr>\n",
       "    <tr>\n",
       "      <th>4</th>\n",
       "      <td>Alderwood, Long Branch</td>\n",
       "      <td>Pizza Place</td>\n",
       "      <td>Gym</td>\n",
       "      <td>Skating Rink</td>\n",
       "      <td>Dance Studio</td>\n",
       "      <td>Coffee Shop</td>\n",
       "      <td>Pub</td>\n",
       "      <td>Sandwich Place</td>\n",
       "      <td>Pharmacy</td>\n",
       "      <td>Antique Shop</td>\n",
       "      <td>College Arts Building</td>\n",
       "    </tr>\n",
       "  </tbody>\n",
       "</table>\n",
       "</div>"
      ],
      "text/plain": [
       "                                       Neighbourhood 1st Most Common Venue  \\\n",
       "0                           Adelaide, King, Richmond            Restaurant   \n",
       "1                                          Agincourt                Lounge   \n",
       "2  Agincourt North, L'Amoreaux East, Milliken, St...                  Park   \n",
       "3  Albion Gardens, Beaumond Heights, Humbergate, ...              Pharmacy   \n",
       "4                             Alderwood, Long Branch           Pizza Place   \n",
       "\n",
       "  2nd Most Common Venue 3rd Most Common Venue 4th Most Common Venue  \\\n",
       "0           Coffee Shop            Steakhouse          Burger Joint   \n",
       "1            Restaurant          Skating Rink        Clothing Store   \n",
       "2            Playground   Arts & Crafts Store           Yoga Studio   \n",
       "3           Video Store   Fried Chicken Joint        Sandwich Place   \n",
       "4                   Gym          Skating Rink          Dance Studio   \n",
       "\n",
       "  5th Most Common Venue 6th Most Common Venue 7th Most Common Venue  \\\n",
       "0                Bakery           Salad Place                   Bar   \n",
       "1        Breakfast Spot             Drugstore            Donut Shop   \n",
       "2          Cupcake Shop             Drugstore            Donut Shop   \n",
       "3           Pizza Place            Restaurant            Beer Store   \n",
       "4           Coffee Shop                   Pub        Sandwich Place   \n",
       "\n",
       "  8th Most Common Venue 9th Most Common Venue 10th Most Common Venue  \n",
       "0           Pizza Place        Breakfast Spot         Cosmetics Shop  \n",
       "1               Dog Run        Discount Store                  Diner  \n",
       "2               Dog Run        Discount Store                  Diner  \n",
       "3         Grocery Store                 Diner               Creperie  \n",
       "4              Pharmacy          Antique Shop  College Arts Building  "
      ]
     },
     "execution_count": 74,
     "metadata": {},
     "output_type": "execute_result"
    }
   ],
   "source": [
    "#toronto_venues = toronto_venues.groupby(['Neighborhood', 'Venue Category'], as_index =False).agg({'Venue':'count'})\n",
    "\n",
    "# one hot encoding\n",
    "toronto_onehot = pd.get_dummies(toronto_venues[['Venue Category']], prefix=\"\", prefix_sep=\"\")\n",
    "\n",
    "# add neighborhood column back to dataframe\n",
    "toronto_onehot['Neighbourhood'] = toronto_venues['Neighbourhood'] \n",
    "\n",
    "# move neighborhood column to the first column\n",
    "fixed_columns = [toronto_onehot.columns[-1]] + list(toronto_onehot.columns[:-1])\n",
    "toronto_onehot = toronto_onehot[fixed_columns]\n",
    "\n",
    "toronto_grouped = toronto_onehot.groupby('Neighbourhood').mean().reset_index()\n",
    "\n",
    "\n",
    "num_top_venues = 10\n",
    "\n",
    "indicators = ['st', 'nd', 'rd']\n",
    "\n",
    "# create columns according to number of top venues\n",
    "columns = ['Neighbourhood']\n",
    "for ind in np.arange(num_top_venues):\n",
    "    try:\n",
    "        columns.append('{}{} Most Common Venue'.format(ind+1, indicators[ind]))\n",
    "    except:\n",
    "        columns.append('{}th Most Common Venue'.format(ind+1))\n",
    "\n",
    "# create a new dataframe\n",
    "neighborhoods_venues_sorted = pd.DataFrame(columns=columns)\n",
    "neighborhoods_venues_sorted['Neighbourhood'] = toronto_grouped['Neighbourhood']\n",
    "\n",
    "for ind in np.arange(toronto_grouped.shape[0]):\n",
    "    neighborhoods_venues_sorted.iloc[ind, 1:] = return_most_common_venues(toronto_grouped.iloc[ind, :], num_top_venues)\n",
    "\n",
    "\n",
    "neighborhoods_venues_sorted.head()\n"
   ]
  },
  {
   "cell_type": "code",
   "execution_count": 75,
   "metadata": {},
   "outputs": [],
   "source": [
    "import folium\n",
    "from sklearn.cluster import KMeans\n",
    "import matplotlib.cm as cm\n",
    "import matplotlib.colors as colors"
   ]
  },
  {
   "cell_type": "code",
   "execution_count": 76,
   "metadata": {},
   "outputs": [
    {
     "data": {
      "text/html": [
       "<div>\n",
       "<style scoped>\n",
       "    .dataframe tbody tr th:only-of-type {\n",
       "        vertical-align: middle;\n",
       "    }\n",
       "\n",
       "    .dataframe tbody tr th {\n",
       "        vertical-align: top;\n",
       "    }\n",
       "\n",
       "    .dataframe thead th {\n",
       "        text-align: right;\n",
       "    }\n",
       "</style>\n",
       "<table border=\"1\" class=\"dataframe\">\n",
       "  <thead>\n",
       "    <tr style=\"text-align: right;\">\n",
       "      <th></th>\n",
       "      <th>Postcode</th>\n",
       "      <th>Borough</th>\n",
       "      <th>Neighbourhood</th>\n",
       "      <th>Postal Code</th>\n",
       "      <th>Latitude</th>\n",
       "      <th>Longitude</th>\n",
       "      <th>Cluster Labels</th>\n",
       "      <th>1st Most Common Venue</th>\n",
       "      <th>2nd Most Common Venue</th>\n",
       "      <th>3rd Most Common Venue</th>\n",
       "      <th>4th Most Common Venue</th>\n",
       "      <th>5th Most Common Venue</th>\n",
       "      <th>6th Most Common Venue</th>\n",
       "      <th>7th Most Common Venue</th>\n",
       "      <th>8th Most Common Venue</th>\n",
       "      <th>9th Most Common Venue</th>\n",
       "      <th>10th Most Common Venue</th>\n",
       "    </tr>\n",
       "  </thead>\n",
       "  <tbody>\n",
       "    <tr>\n",
       "      <th>0</th>\n",
       "      <td>M3A</td>\n",
       "      <td>North York</td>\n",
       "      <td>Parkwoods</td>\n",
       "      <td>M3A</td>\n",
       "      <td>43.753259</td>\n",
       "      <td>-79.329656</td>\n",
       "      <td>1.0</td>\n",
       "      <td>Park</td>\n",
       "      <td>Food &amp; Drink Shop</td>\n",
       "      <td>Yoga Studio</td>\n",
       "      <td>Curling Ice</td>\n",
       "      <td>Electronics Store</td>\n",
       "      <td>Drugstore</td>\n",
       "      <td>Donut Shop</td>\n",
       "      <td>Dog Run</td>\n",
       "      <td>Discount Store</td>\n",
       "      <td>Diner</td>\n",
       "    </tr>\n",
       "    <tr>\n",
       "      <th>1</th>\n",
       "      <td>M4A</td>\n",
       "      <td>North York</td>\n",
       "      <td>Victoria Village</td>\n",
       "      <td>M4A</td>\n",
       "      <td>43.725882</td>\n",
       "      <td>-79.315572</td>\n",
       "      <td>0.0</td>\n",
       "      <td>Restaurant</td>\n",
       "      <td>Hockey Arena</td>\n",
       "      <td>Coffee Shop</td>\n",
       "      <td>College Gym</td>\n",
       "      <td>Cupcake Shop</td>\n",
       "      <td>Drugstore</td>\n",
       "      <td>Donut Shop</td>\n",
       "      <td>Dog Run</td>\n",
       "      <td>Discount Store</td>\n",
       "      <td>Diner</td>\n",
       "    </tr>\n",
       "    <tr>\n",
       "      <th>2</th>\n",
       "      <td>M5A</td>\n",
       "      <td>Downtown Toronto</td>\n",
       "      <td>Harbourfront</td>\n",
       "      <td>M5A</td>\n",
       "      <td>43.654260</td>\n",
       "      <td>-79.360636</td>\n",
       "      <td>2.0</td>\n",
       "      <td>Coffee Shop</td>\n",
       "      <td>Restaurant</td>\n",
       "      <td>Park</td>\n",
       "      <td>Pub</td>\n",
       "      <td>Bakery</td>\n",
       "      <td>Theater</td>\n",
       "      <td>Breakfast Spot</td>\n",
       "      <td>Spa</td>\n",
       "      <td>Beer Store</td>\n",
       "      <td>Ice Cream Shop</td>\n",
       "    </tr>\n",
       "    <tr>\n",
       "      <th>3</th>\n",
       "      <td>M6A</td>\n",
       "      <td>North York</td>\n",
       "      <td>Lawrence Heights, Lawrence Manor</td>\n",
       "      <td>M6A</td>\n",
       "      <td>43.718518</td>\n",
       "      <td>-79.464763</td>\n",
       "      <td>2.0</td>\n",
       "      <td>Furniture / Home Store</td>\n",
       "      <td>Clothing Store</td>\n",
       "      <td>Accessories Store</td>\n",
       "      <td>Boutique</td>\n",
       "      <td>Fraternity House</td>\n",
       "      <td>Miscellaneous Shop</td>\n",
       "      <td>Carpet Store</td>\n",
       "      <td>Restaurant</td>\n",
       "      <td>Coffee Shop</td>\n",
       "      <td>Aquarium</td>\n",
       "    </tr>\n",
       "    <tr>\n",
       "      <th>4</th>\n",
       "      <td>M7A</td>\n",
       "      <td>Queen's Park</td>\n",
       "      <td>Queen's Park</td>\n",
       "      <td>M7A</td>\n",
       "      <td>43.662301</td>\n",
       "      <td>-79.389494</td>\n",
       "      <td>0.0</td>\n",
       "      <td>Coffee Shop</td>\n",
       "      <td>Restaurant</td>\n",
       "      <td>Gym</td>\n",
       "      <td>Diner</td>\n",
       "      <td>Park</td>\n",
       "      <td>Nightclub</td>\n",
       "      <td>Music Venue</td>\n",
       "      <td>Hobby Shop</td>\n",
       "      <td>Fried Chicken Joint</td>\n",
       "      <td>Creperie</td>\n",
       "    </tr>\n",
       "  </tbody>\n",
       "</table>\n",
       "</div>"
      ],
      "text/plain": [
       "  Postcode           Borough                     Neighbourhood Postal Code  \\\n",
       "0      M3A        North York                         Parkwoods         M3A   \n",
       "1      M4A        North York                  Victoria Village         M4A   \n",
       "2      M5A  Downtown Toronto                      Harbourfront         M5A   \n",
       "3      M6A        North York  Lawrence Heights, Lawrence Manor         M6A   \n",
       "4      M7A      Queen's Park                      Queen's Park         M7A   \n",
       "\n",
       "    Latitude  Longitude  Cluster Labels   1st Most Common Venue  \\\n",
       "0  43.753259 -79.329656             1.0                    Park   \n",
       "1  43.725882 -79.315572             0.0              Restaurant   \n",
       "2  43.654260 -79.360636             2.0             Coffee Shop   \n",
       "3  43.718518 -79.464763             2.0  Furniture / Home Store   \n",
       "4  43.662301 -79.389494             0.0             Coffee Shop   \n",
       "\n",
       "  2nd Most Common Venue 3rd Most Common Venue 4th Most Common Venue  \\\n",
       "0     Food & Drink Shop           Yoga Studio           Curling Ice   \n",
       "1          Hockey Arena           Coffee Shop           College Gym   \n",
       "2            Restaurant                  Park                   Pub   \n",
       "3        Clothing Store     Accessories Store              Boutique   \n",
       "4            Restaurant                   Gym                 Diner   \n",
       "\n",
       "  5th Most Common Venue 6th Most Common Venue 7th Most Common Venue  \\\n",
       "0     Electronics Store             Drugstore            Donut Shop   \n",
       "1          Cupcake Shop             Drugstore            Donut Shop   \n",
       "2                Bakery               Theater        Breakfast Spot   \n",
       "3      Fraternity House    Miscellaneous Shop          Carpet Store   \n",
       "4                  Park             Nightclub           Music Venue   \n",
       "\n",
       "  8th Most Common Venue 9th Most Common Venue 10th Most Common Venue  \n",
       "0               Dog Run        Discount Store                  Diner  \n",
       "1               Dog Run        Discount Store                  Diner  \n",
       "2                   Spa            Beer Store         Ice Cream Shop  \n",
       "3            Restaurant           Coffee Shop               Aquarium  \n",
       "4            Hobby Shop   Fried Chicken Joint               Creperie  "
      ]
     },
     "execution_count": 76,
     "metadata": {},
     "output_type": "execute_result"
    }
   ],
   "source": [
    "kclusters = 4\n",
    "\n",
    "toronto_grouped_clustering = toronto_grouped.drop('Neighbourhood', 1)\n",
    "\n",
    "# run k-means clustering\n",
    "kmeans = KMeans(n_clusters=kclusters, random_state=0).fit(toronto_grouped_clustering)\n",
    "\n",
    "neighborhoods_venues_sorted.insert(0, 'Cluster Labels', kmeans.labels_)\n",
    "\n",
    "toronto_merged = x.join(neighborhoods_venues_sorted.set_index('Neighbourhood'), on='Neighbourhood')\n",
    "toronto_merged['Cluster Labels'].replace(np.nan, 4, inplace = True)\n",
    "\n",
    "toronto_merged.head() # check the last columns!"
   ]
  },
  {
   "cell_type": "markdown",
   "metadata": {},
   "source": [
    "So let's plot out clusters on the map:"
   ]
  },
  {
   "cell_type": "code",
   "execution_count": 77,
   "metadata": {},
   "outputs": [
    {
     "data": {
      "text/html": [
       "<div style=\"width:100%;\"><div style=\"position:relative;width:100%;height:0;padding-bottom:60%;\"><iframe src=\"data:text/html;charset=utf-8;base64,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\" style=\"position:absolute;width:100%;height:100%;left:0;top:0;border:none !important;\" allowfullscreen webkitallowfullscreen mozallowfullscreen></iframe></div></div>"
      ],
      "text/plain": [
       "<folium.folium.Map at 0x16c0285f898>"
      ]
     },
     "execution_count": 77,
     "metadata": {},
     "output_type": "execute_result"
    }
   ],
   "source": [
    "# create map\n",
    "map_clusters = folium.Map(location=[43.725882,-79.315572], zoom_start=10)\n",
    "\n",
    "# set color scheme for the clusters\n",
    "x = np.arange(kclusters)\n",
    "ys = [i + x + (i*x)**2 for i in range(kclusters)]\n",
    "colors_array = cm.rainbow(np.linspace(0, 1, len(ys)))\n",
    "rainbow = [colors.rgb2hex(i) for i in colors_array]\n",
    "\n",
    "# add markers to the map\n",
    "markers_colors = []\n",
    "for lat, lon, poi, cluster in zip(toronto_merged['Latitude'], toronto_merged['Longitude'], toronto_merged['Neighbourhood'], toronto_merged['Cluster Labels']):\n",
    "    label = folium.Popup(str(poi) + ' Cluster ' + str(cluster), parse_html=True)\n",
    "    folium.CircleMarker(\n",
    "        [lat, lon],\n",
    "        radius=5,\n",
    "        popup=label,\n",
    "        color=rainbow[int(cluster-1)],\n",
    "        fill=True,\n",
    "        fill_color=rainbow[int(cluster-1)],\n",
    "        fill_opacity=0.7).add_to(map_clusters)\n",
    "       \n",
    "map_clusters"
   ]
  }
 ],
 "metadata": {
  "kernelspec": {
   "display_name": "Python 3",
   "language": "python",
   "name": "python3"
  },
  "language_info": {
   "codemirror_mode": {
    "name": "ipython",
    "version": 3
   },
   "file_extension": ".py",
   "mimetype": "text/x-python",
   "name": "python",
   "nbconvert_exporter": "python",
   "pygments_lexer": "ipython3",
   "version": "3.7.3"
  }
 },
 "nbformat": 4,
 "nbformat_minor": 2
}
